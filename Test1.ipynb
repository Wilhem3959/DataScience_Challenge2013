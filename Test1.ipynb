{
 "cells": [
  {
   "cell_type": "code",
   "execution_count": 1,
   "metadata": {},
   "outputs": [],
   "source": [
    "import numpy as np\n",
    "import pandas as pd\n",
    "import matplotlib.pyplot as plt\n",
    "import datetime\n",
    "import csv"
   ]
  },
  {
   "cell_type": "code",
   "execution_count": 2,
   "metadata": {},
   "outputs": [],
   "source": [
    "df = pd.DataFrame(pd.read_csv('hubway_trips.csv'))"
   ]
  },
  {
   "cell_type": "code",
   "execution_count": 3,
   "metadata": {},
   "outputs": [],
   "source": [
    "register = df['subsc_type'] == 'Registered'\n",
    "casual = df['subsc_type'] == 'Casual'\n",
    "\n",
    "df_register = df[register]\n",
    "df_casual = df[casual]\n",
    "\n",
    "ave_register = df_register['duration'].mean()\n",
    "ave_casual = df_casual['duration'].mean()"
   ]
  },
  {
   "cell_type": "code",
   "execution_count": 4,
   "metadata": {},
   "outputs": [
    {
     "name": "stdout",
     "output_type": "stream",
     "text": [
      "Promedio de tiempo de usuarios registrados: 733.3289835450383\n",
      "Promedio de tiempo de usuarios casuales: 2293.4422135752234\n",
      "El numero de rentas de los usuarios registrados: 1106414\n",
      "El numero de rentas de los usuarios casuales: 472611\n"
     ]
    }
   ],
   "source": [
    "print('Promedio de tiempo de usuarios registrados: '+str(ave_register))\n",
    "print('Promedio de tiempo de usuarios casuales: '+str(ave_casual))\n",
    "\n",
    "print('El numero de rentas de los usuarios registrados: '+str(df_register.shape[0]))\n",
    "print('El numero de rentas de los usuarios casuales: '+str(df_casual.shape[0]))"
   ]
  }
 ],
 "metadata": {
  "kernelspec": {
   "display_name": "Python 3",
   "language": "python",
   "name": "python3"
  },
  "language_info": {
   "codemirror_mode": {
    "name": "ipython",
    "version": 3
   },
   "file_extension": ".py",
   "mimetype": "text/x-python",
   "name": "python",
   "nbconvert_exporter": "python",
   "pygments_lexer": "ipython3",
   "version": "3.7.1"
  }
 },
 "nbformat": 4,
 "nbformat_minor": 2
}
